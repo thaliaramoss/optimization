{
  "nbformat": 4,
  "nbformat_minor": 0,
  "metadata": {
    "colab": {
      "provenance": []
    },
    "kernelspec": {
      "name": "python3",
      "display_name": "Python 3"
    },
    "language_info": {
      "name": "python"
    }
  },
  "cells": [
    {
      "cell_type": "markdown",
      "source": [
        "# Otimizando o lucro de uma cafeteria utilizando a programação linear"
      ],
      "metadata": {
        "id": "r7dLJyGBj76t"
      }
    },
    {
      "cell_type": "markdown",
      "source": [
        "Contexto: Iremos resolver uma situação de programação linear utilizando puLP. Nesse cenário, o objetivo será maximizar a produção de uma cafeteria, onde diferentes tipos de produtos são vendidos e requerendo diferentes máquinas que necessitam de um determinado tempo de execução. Portanto, o problema se define em maximizar o lucro de nossa cafeteria fictícia, respeitando as restrições de tempo das máquinas."
      ],
      "metadata": {
        "id": "sczBYyaxipZd"
      }
    },
    {
      "cell_type": "code",
      "execution_count": null,
      "metadata": {
        "colab": {
          "base_uri": "https://localhost:8080/"
        },
        "id": "78Y8CDFGhmk8",
        "outputId": "6c8d654f-99d5-4893-eaf9-379dac58a2a7"
      },
      "outputs": [
        {
          "output_type": "stream",
          "name": "stdout",
          "text": [
            "Collecting pulp\n",
            "  Downloading PuLP-2.8.0-py3-none-any.whl (17.7 MB)\n",
            "\u001b[2K     \u001b[90m━━━━━━━━━━━━━━━━━━━━━━━━━━━━━━━━━━━━━━━━\u001b[0m \u001b[32m17.7/17.7 MB\u001b[0m \u001b[31m47.8 MB/s\u001b[0m eta \u001b[36m0:00:00\u001b[0m\n",
            "\u001b[?25hInstalling collected packages: pulp\n",
            "Successfully installed pulp-2.8.0\n"
          ]
        }
      ],
      "source": [
        "pip install pulp"
      ]
    },
    {
      "cell_type": "code",
      "source": [
        "import pulp\n",
        "\n",
        "# Criar problema de otimização\n",
        "prob = pulp.LpProblem(\"Maximizacao_de_Lucro_Cafe\", pulp.LpMaximize)\n",
        "\n",
        "# Variáveis de decisão mapeadas por nome\n",
        "variaveis = {\n",
        "    \"CafeA\": pulp.LpVariable(\"CafeA\", lowBound=0, cat='Continuous'),\n",
        "    \"CafeB\": pulp.LpVariable(\"CafeB\", lowBound=0, cat='Continuous'),\n",
        "    \"CafeC\": pulp.LpVariable(\"CafeC\", lowBound=0, cat='Continuous'),\n",
        "    \"CafeD\": pulp.LpVariable(\"CafeD\", lowBound=0, cat='Continuous'),\n",
        "}\n",
        "\n",
        "# Coleta do lucro por unidade para cada tipo de café\n",
        "lucros = {cafe: float(input(f\"Lucro por unidade do {cafe} (R$): \"))\n",
        "                              for cafe in variaveis.keys()}\n",
        "\n",
        "# Função objetivo de maximização\n",
        "prob += pulp.lpSum([lucros[cafe] * variavel\n",
        "                    for cafe, variavel in variaveis.items()]), \"Lucro_Total\"\n",
        "\n",
        "# Horas disponíveis para as máquinas 1 e 2\n",
        "horas_disponiveis = [float(input(\"Horas disponíveis na Máquina 1: \")),\n",
        "                     float(input(\"Horas disponíveis na Máquina 2: \"))]\n",
        "\n",
        "# Coleta do tempo de produção para as máquinas 1 e 2\n",
        "tempo_producao = {(cafe, i): float(input(f\"Tempo de produção do {cafe} na Máquina {i+1} (horas): \"))\n",
        "                              for cafe in variaveis.keys() for i in range(2)}\n",
        "\n",
        "# Restrições baseadas no tempo de produção\n",
        "for i in range(2):  # Máquinas 1 e 2\n",
        "    prob += pulp.lpSum([tempo_producao[(cafe, i)] * variavel\n",
        "              for cafe, variavel in variaveis.items()]) <= horas_disponiveis[i], f\"Limite_Maquina_{i+1}\"\n",
        "\n",
        "# Resolver o problema\n",
        "prob.solve()\n",
        "\n",
        "# Imprimir os resultados\n",
        "print(\"Status:\", pulp.LpStatus[prob.status])\n",
        "for cafe, variavel in variaveis.items():\n",
        "    print(f\"Produzir {variavel.varValue} unidades de {cafe}\")\n",
        "print(\"Lucro Total Máximo: R$\", pulp.value(prob.objective))\n"
      ],
      "metadata": {
        "colab": {
          "base_uri": "https://localhost:8080/"
        },
        "id": "H_vVbWOg0zTb",
        "outputId": "8b77cf7e-a272-4728-c95e-c2f7c4e7e5c2"
      },
      "execution_count": 14,
      "outputs": [
        {
          "output_type": "stream",
          "name": "stdout",
          "text": [
            "Lucro por unidade do CafeA (R$): 10\n",
            "Lucro por unidade do CafeB (R$): 10\n",
            "Lucro por unidade do CafeC (R$): 15\n",
            "Lucro por unidade do CafeD (R$): 12\n",
            "Horas disponíveis na Máquina 1: 6\n",
            "Horas disponíveis na Máquina 2: 8\n",
            "Tempo de produção do CafeA na Máquina 1 (horas): 0.3\n",
            "Tempo de produção do CafeA na Máquina 2 (horas): 1\n",
            "Tempo de produção do CafeB na Máquina 1 (horas): 0.2\n",
            "Tempo de produção do CafeB na Máquina 2 (horas): 0.5\n",
            "Tempo de produção do CafeC na Máquina 1 (horas): 1\n",
            "Tempo de produção do CafeC na Máquina 2 (horas): 0.4\n",
            "Tempo de produção do CafeD na Máquina 1 (horas): 0.2\n",
            "Tempo de produção do CafeD na Máquina 2 (horas): 1\n",
            "Status: Optimal\n",
            "Produzir 0.0 unidades de CafeA\n",
            "Produzir 13.333333 unidades de CafeB\n",
            "Produzir 3.3333333 unidades de CafeC\n",
            "Produzir 0.0 unidades de CafeD\n",
            "Lucro Total Máximo: R$ 183.3333295\n"
          ]
        }
      ]
    },
    {
      "cell_type": "code",
      "source": [
        "prob"
      ],
      "metadata": {
        "colab": {
          "base_uri": "https://localhost:8080/"
        },
        "id": "uUCRWM0F-LLc",
        "outputId": "352c978e-10a5-4c7f-b67e-ed81f327a915"
      },
      "execution_count": 15,
      "outputs": [
        {
          "output_type": "execute_result",
          "data": {
            "text/plain": [
              "Maximizacao_de_Lucro_Cafe:\n",
              "MAXIMIZE\n",
              "10.0*CafeA + 10.0*CafeB + 15.0*CafeC + 12.0*CafeD + 0.0\n",
              "SUBJECT TO\n",
              "Limite_Maquina_1: 0.3 CafeA + 0.2 CafeB + CafeC + 0.2 CafeD <= 6\n",
              "\n",
              "Limite_Maquina_2: CafeA + 0.5 CafeB + 0.4 CafeC + CafeD <= 8\n",
              "\n",
              "VARIABLES\n",
              "CafeA Continuous\n",
              "CafeB Continuous\n",
              "CafeC Continuous\n",
              "CafeD Continuous"
            ]
          },
          "metadata": {},
          "execution_count": 15
        }
      ]
    }
  ]
}