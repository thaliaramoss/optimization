{
  "nbformat": 4,
  "nbformat_minor": 0,
  "metadata": {
    "colab": {
      "provenance": [],
      "authorship_tag": "ABX9TyMaAb6bYLg3oGZvRQmmqvWR",
      "include_colab_link": true
    },
    "kernelspec": {
      "name": "python3",
      "display_name": "Python 3"
    },
    "language_info": {
      "name": "python"
    }
  },
  "cells": [
    {
      "cell_type": "markdown",
      "metadata": {
        "id": "view-in-github",
        "colab_type": "text"
      },
      "source": [
        "<a href=\"https://colab.research.google.com/github/thaliaramoss/optimization/blob/main/Problemas_em_sala.ipynb\" target=\"_parent\"><img src=\"https://colab.research.google.com/assets/colab-badge.svg\" alt=\"Open In Colab\"/></a>"
      ]
    },
    {
      "cell_type": "code",
      "execution_count": null,
      "metadata": {
        "colab": {
          "base_uri": "https://localhost:8080/"
        },
        "id": "ZbjTYLHxRSOK",
        "outputId": "a26431e4-a365-451d-d6ec-6630301c8f4b"
      },
      "outputs": [
        {
          "output_type": "stream",
          "name": "stdout",
          "text": [
            "Collecting pulp\n",
            "  Downloading PuLP-2.8.0-py3-none-any.whl (17.7 MB)\n",
            "\u001b[2K     \u001b[90m━━━━━━━━━━━━━━━━━━━━━━━━━━━━━━━━━━━━━━━━\u001b[0m \u001b[32m17.7/17.7 MB\u001b[0m \u001b[31m21.5 MB/s\u001b[0m eta \u001b[36m0:00:00\u001b[0m\n",
            "\u001b[?25hInstalling collected packages: pulp\n",
            "Successfully installed pulp-2.8.0\n"
          ]
        }
      ],
      "source": [
        "pip install pulp"
      ]
    },
    {
      "cell_type": "markdown",
      "source": [
        "**Exemplo 1: Problema da Mistura**\n",
        "\n",
        "Deseja-se saber quais as quantidades ideais de cada ingrediente (milho e farinha) para\n",
        "fazer uma quantidade de ração, com as necessidades nutricionais atendidas (vitamina\n",
        "A, vitamina B e proteína) e o custo total dos ingredientes seja o menor possível. O custo\n",
        "de cada ingrediente é: Milho -  65,00 /Kg, Farinha de ossos -  30,00 /Kg. Para\n",
        "fazer uma certa quantidade de ração é necessário uma certa quantidade nutrientes. O\n",
        "milho apresenta 2 un. de vitamina A, 3 un. de vitamina B e 1 un. de Proteina. A farinha\n",
        "apresenta 3 un. de vitamina A e 2 un. de vitamina B. Deseja-se preparar uma ração que\n",
        "contenha no mínimo 7 unidades de vitamina A, 9 unidades de vitamina B e 1 unidade de\n",
        "Proteina. Determinar a quantidade dos alimentos necessárias para satisfazer a\n",
        "necessidades da ração."
      ],
      "metadata": {
        "id": "008AuMpjTkWy"
      }
    },
    {
      "cell_type": "code",
      "source": [
        "import pulp\n",
        "\n",
        "# Criar problema de otimização\n",
        "prob = pulp.LpProblem(\"Minimizacao\", pulp.LpMinimize)\n",
        "\n",
        "# variaveis\n",
        "x1 = pulp.LpVariable(\"x1\", lowBound=0, cat='Continuous')\n",
        "x2 = pulp.LpVariable(\"x2\", lowBound=0, cat='Continuous')\n",
        "\n",
        "# Função objetivo\n",
        "prob += 65 * x1 + 30 * x2\n",
        "\n",
        "# restrições\n",
        "prob += 2 * x1 + 3 * x2 >= 7\n",
        "prob += 3 * x1 + 2 * x2 >= 9\n",
        "prob += 1*x1 >= 1\n",
        "prob += x1 >= 0\n",
        "prob += x2 >= 0\n",
        "\n",
        "# Resolver o problema\n",
        "solution_status = prob.solve()\n",
        "\n",
        "# Imprimir os resultados\n",
        "print(prob)\n",
        "print('---')\n",
        "print(\"Status:\", pulp.LpStatus[solution_status])\n",
        "print(\"Valor de x1:\", x1.varValue)\n",
        "print(\"Valor de x2:\", x2.varValue)\n",
        "print(\"Lucro Total Máximo: R$\", pulp.value(prob.objective))\n"
      ],
      "metadata": {
        "colab": {
          "base_uri": "https://localhost:8080/"
        },
        "id": "kRqgPoeDRmQ5",
        "outputId": "4f65715c-d019-4727-e4cb-e3c9d2905198"
      },
      "execution_count": null,
      "outputs": [
        {
          "output_type": "stream",
          "name": "stdout",
          "text": [
            "Minimizacao:\n",
            "MINIMIZE\n",
            "65*x1 + 30*x2 + 0\n",
            "SUBJECT TO\n",
            "_C1: 2 x1 + 3 x2 >= 7\n",
            "\n",
            "_C2: 3 x1 + 2 x2 >= 9\n",
            "\n",
            "_C3: x1 >= 1\n",
            "\n",
            "_C4: x1 >= 0\n",
            "\n",
            "_C5: x2 >= 0\n",
            "\n",
            "VARIABLES\n",
            "x1 Continuous\n",
            "x2 Continuous\n",
            "\n",
            "---\n",
            "Status: Optimal\n",
            "Valor de x1: 1.0\n",
            "Valor de x2: 3.0\n",
            "Lucro Total Máximo: R$ 155.0\n"
          ]
        }
      ]
    },
    {
      "cell_type": "markdown",
      "source": [
        "**Exemplo 2: Problema de Produção**\n",
        "\n",
        "Uma empresa pode fabricar dois produtos (1 e 2). Na fabricação do produto 1 a empresa\n",
        "gasta nove horas-homem e três horas-máquina (a tecnologia utilizada é intensiva em mão-deobra). Na fabricação do produto 2 a empresa gasta uma hora-homem e uma hora-máquina (a\n",
        "tecnologia é intensiva em capital). Sendo x1 e x2 as quantidades fabricadas dos produtos 1 e\n",
        "2 e sabendo-se que a empresa dispõe de 18 horas-homem e 12 horas-máquina e ainda que\n",
        "os lucros dos produtos são $4 e $1 respectivamente, quanto deve a empresa fabricar de cada\n",
        "produto para obter o maior lucro possível (ou o lucro máximo ou ainda maximizar o lucro) ?"
      ],
      "metadata": {
        "id": "5DJIAYnLTc4p"
      }
    },
    {
      "cell_type": "code",
      "source": [
        "# Criar problema de otimização\n",
        "prob = pulp.LpProblem(\"Maximização\", pulp.LpMaximize)\n",
        "\n",
        "# variaveis\n",
        "x1 = pulp.LpVariable(\"x1\", lowBound=0, cat='Continuous')\n",
        "x2 = pulp.LpVariable(\"x2\", lowBound=0, cat='Continuous')\n",
        "\n",
        "# Função objetivo\n",
        "prob += 4 * x1 + 1 * x2\n",
        "\n",
        "# restrições\n",
        "prob += 9 * x1 + 1 * x2 <= 18\n",
        "prob += 3 * x1 + 1 * x2 <= 12\n",
        "prob += x1 >= 0\n",
        "prob += x2 >= 0\n",
        "\n",
        "# Resolver o problema\n",
        "solution_status = prob.solve()\n",
        "\n",
        "# Imprimir os resultados\n",
        "print(prob)\n",
        "print('---')\n",
        "print(\"Status:\", pulp.LpStatus[solution_status])\n",
        "print(\"Valor de x1:\", x1.varValue)\n",
        "print(\"Valor de x2:\", x2.varValue)\n",
        "print(\"Lucro Total Máximo: R$\", pulp.value(prob.objective))"
      ],
      "metadata": {
        "colab": {
          "base_uri": "https://localhost:8080/"
        },
        "id": "kEbi5YS-RYhp",
        "outputId": "923964ba-548d-4af0-81c1-ec01c3a4eddc"
      },
      "execution_count": null,
      "outputs": [
        {
          "output_type": "stream",
          "name": "stdout",
          "text": [
            "Maximização:\n",
            "MAXIMIZE\n",
            "4*x1 + 1*x2 + 0\n",
            "SUBJECT TO\n",
            "_C1: 9 x1 + x2 <= 18\n",
            "\n",
            "_C2: 3 x1 + x2 <= 12\n",
            "\n",
            "_C3: x1 >= 0\n",
            "\n",
            "_C4: x2 >= 0\n",
            "\n",
            "VARIABLES\n",
            "x1 Continuous\n",
            "x2 Continuous\n",
            "\n",
            "---\n",
            "Status: Optimal\n",
            "Valor de x1: 1.0\n",
            "Valor de x2: 9.0\n",
            "Lucro Total Máximo: R$ 13.0\n"
          ]
        }
      ]
    },
    {
      "cell_type": "markdown",
      "source": [
        "**Exemplo 3**\n",
        "\n",
        "Uma fábrica produz 2 tipos de carregadores de bebês: reversível e não-reversível. O\n",
        "carregador não-reversível é vendido por 23,00 e requer 2 metros de um tecido de cor\n",
        "sólida. O carregador reversível é vendido por 35 e requer 2 metros de um tecido de\n",
        "cor sólida e 2 metros de um tecido estampado. O custo de fabricação dos\n",
        "carregadores é de 8,00 para o não-reversível e  10,00 para o reversível. A fábrica possui\n",
        "900 metros de tecido de cor sólida e 600 metros de tecido estampado disponível para\n",
        "a produção desta coleção. A fábrica pode gastar até $4,000 na produção dos\n",
        "carregadores. A demanda é tal que todas os carregadores reversíveis feitos são\n",
        "vendidos, enquanto que no máximo 350 carregadores não- reversíveis são vendidos.\n",
        "A fábrica está interessada em formular um\n",
        "modelo matemático que possa ser usado\n",
        "para maximizar seu lucro (por exemplo, a\n",
        "diferença entre receitas e despesas)\n",
        "resultante da fabricação e venda da nova\n",
        "coleção de carregadores. Formule este\n",
        "problema."
      ],
      "metadata": {
        "id": "o_pyqrx8T19d"
      }
    },
    {
      "cell_type": "code",
      "source": [
        "# Criar problema de otimização\n",
        "prob = pulp.LpProblem(\"Maximização\", pulp.LpMaximize)\n",
        "\n",
        "# variaveis\n",
        "x1 = pulp.LpVariable(\"x1\", lowBound=0, cat='Continuous')\n",
        "x2 = pulp.LpVariable(\"x2\", lowBound=0, cat='Continuous')\n",
        "\n",
        "# Função objetivo\n",
        "prob += 15*x1 + 25*x2\n",
        "\n",
        "# restrições\n",
        "prob += 2 * x1 + 2 * x2 <= 900 #no máximo 900m de tecido cor sólida.\n",
        "prob += 2 * x2 <= 600 # no máximo 600m de tecido estampado.\n",
        "prob += 8*x1 + 10*x2 <= 4000 #O orçamento de produção tem limite de $4,000\n",
        "prob += x1 <= 350 # No máximo 350 carregadores não-reversíveis podem ser vendidos.\n",
        "prob += x1 >= 0\n",
        "prob += x2 >= 0\n",
        "\n",
        "# Resolver o problema\n",
        "solution_status = prob.solve()\n",
        "\n",
        "# Imprimir os resultados\n",
        "print(prob)\n",
        "print('---')\n",
        "print(\"Status:\", pulp.LpStatus[solution_status])\n",
        "print(\"Valor de x1:\", x1.varValue)\n",
        "print(\"Valor de x2:\", x2.varValue)\n",
        "print(\"Lucro Total Máximo: R$\", pulp.value(prob.objective))"
      ],
      "metadata": {
        "colab": {
          "base_uri": "https://localhost:8080/"
        },
        "id": "Qqq6r8mbSrw5",
        "outputId": "e532730a-a278-4b70-cb9e-acd664860902"
      },
      "execution_count": null,
      "outputs": [
        {
          "output_type": "stream",
          "name": "stdout",
          "text": [
            "Maximização:\n",
            "MAXIMIZE\n",
            "15*x1 + 25*x2 + 0\n",
            "SUBJECT TO\n",
            "_C1: 2 x1 + 2 x2 <= 900\n",
            "\n",
            "_C2: 2 x2 <= 600\n",
            "\n",
            "_C3: 8 x1 + 10 x2 <= 4000\n",
            "\n",
            "_C4: x1 <= 350\n",
            "\n",
            "_C5: x1 >= 0\n",
            "\n",
            "_C6: x2 >= 0\n",
            "\n",
            "VARIABLES\n",
            "x1 Continuous\n",
            "x2 Continuous\n",
            "\n",
            "---\n",
            "Status: Optimal\n",
            "Valor de x1: 125.0\n",
            "Valor de x2: 300.0\n",
            "Lucro Total Máximo: R$ 9375.0\n"
          ]
        }
      ]
    }
  ]
}